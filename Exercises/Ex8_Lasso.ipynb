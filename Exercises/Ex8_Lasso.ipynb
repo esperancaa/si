{
 "cells": [
  {
   "cell_type": "code",
   "execution_count": 3,
   "metadata": {},
   "outputs": [],
   "source": [
    "import sys\n",
    "sys.path.append(\"/Users/utilizador/Documents/GitHub/si/src\")\n",
    "import numpy as np\n",
    "from si.data.dataset import Dataset"
   ]
  },
  {
   "cell_type": "markdown",
   "metadata": {},
   "source": [
    "A classe LassoRegression implementa a regressão Lasso, um método de regressão linear regularizado. O principal objetivo do Lasso é ajustar um modelo linear aos dados enquanto aplica uma penalização baseada na soma dos valores absolutos dos coeficientes. Isso resulta em um modelo esparso, onde alguns coeficientes podem ser exatamente zero, o que é útil para seleção de variáveis."
   ]
  },
  {
   "cell_type": "markdown",
   "metadata": {},
   "source": [
    "Descida por Coordenadas:\n",
    "O Lasso é resolvido usando um método chamado coordinate descent.\n",
    "Em cada iteração, otimiza-se um coeficiente por vez, mantendo os outros fixos."
   ]
  },
  {
   "cell_type": "markdown",
   "metadata": {},
   "source": [
    "Resumo da Lógica\n",
    "__init__: Configura os parâmetros do modelo.\n",
    "\n",
    "_soft_threshold: Aplica o operador de soft-thresholding para ajustar coeficientes.\n",
    "\n",
    "fit:\n",
    "\n",
    "- Usa descida por coordenadas para ajustar os coeficientes.\n",
    "\n",
    "- Atualiza cada coeficiente usando resíduos e normalização.\n",
    "\n",
    "- Para as iterações se a mudança nos coeficientes for menor que a tolerância.\n",
    "\n",
    "- predict: Calcula as previsões baseadas nas features e nos coeficientes ajustados.\n",
    "\n",
    "- score: Avalia o desempenho do modelo com o MSE."
   ]
  },
  {
   "cell_type": "markdown",
   "metadata": {},
   "source": [
    "Vantagens e Limitações\n",
    "\n",
    "Vantagens:\n",
    "\n",
    "Esparsidade: Promove coeficientes exatamente zero, útil para seleção de variáveis.\n",
    "Regularização: Ajuda a evitar overfitting.\n",
    "\n",
    "Limitações:\n",
    "\n",
    "Complexidade Computacional: Pode ser lento em datasets muito grandes.\n",
    "Convergência: Requer boa inicialização e escolha adequada de λ."
   ]
  },
  {
   "cell_type": "code",
   "execution_count": 36,
   "metadata": {},
   "outputs": [],
   "source": [
    "class LassoRegression:\n",
    "    def __init__(self, l1_penalty=1.0, max_iter=1000, tolerance=1e-4):\n",
    "        \"\"\"\n",
    "        Lasso Regression implementation using coordinate descent.\n",
    "\n",
    "        Parameters\n",
    "        ----------\n",
    "        l1_penalty : float\n",
    "            The regularization parameter (lambda).\n",
    "        max_iter : int\n",
    "            Maximum number of iterations for optimization.\n",
    "        tolerance : float\n",
    "            Convergence tolerance for stopping criteria.\n",
    "        \"\"\"\n",
    "        self.l1_penalty = l1_penalty\n",
    "        self.max_iter = max_iter\n",
    "        self.tolerance = tolerance\n",
    "        self.coef_ = None\n",
    "        self.intercept_ = None\n",
    "\n",
    "    def _soft_threshold(self, rho, lam):\n",
    "        \"\"\"\n",
    "        Apply the soft-thresholding operator for Lasso.\n",
    "\n",
    "        Parameters\n",
    "        ----------\n",
    "        rho : float\n",
    "            The correlation between feature and residual.\n",
    "        lam : float\n",
    "            The regularization parameter (lambda).\n",
    "\n",
    "        Returns\n",
    "        -------\n",
    "        float\n",
    "            The updated coefficient value after soft-thresholding.\n",
    "        \"\"\"\n",
    "        if rho < -lam:  # Se a correlação for menor que -lambda, reduz rho\n",
    "            return rho + lam\n",
    "        elif rho > lam:  # Se a correlação for maior que lambda, reduz rho\n",
    "            return rho - lam\n",
    "        else:   # Se rho estiver entre -lambda e lambda, o coeficiente é zerado\n",
    "            return 0\n",
    "\n",
    "    def fit(self, dataset):\n",
    "        \"\"\"\n",
    "        Fit the Lasso Regression model.\n",
    "\n",
    "        Parameters\n",
    "        ----------\n",
    "        dataset : Dataset\n",
    "            A Dataset object containing features (X) and labels (y).\n",
    "        \"\"\"\n",
    "        X, y = dataset.X, dataset.y\n",
    "        n_samples, n_features = X.shape\n",
    "        self.coef_ = np.zeros(n_features)  #Inicializa os coeficientes com zeros\n",
    "        self.intercept_ = 0\n",
    "\n",
    "        for iteration in range(self.max_iter):  # Itera até atingir o número máximo ou convergir\n",
    "            coef_prev = self.coef_.copy()   # Copia os coeficientes para verificar convergência\n",
    "\n",
    "            \n",
    "            self.intercept_ = np.mean(y - np.dot(X, self.coef_))  # Atualiza o intercepto como a média dos resíduos\n",
    "\n",
    "            for j in range(n_features):   # Atualiza cada coeficiente individualmente\n",
    "                \n",
    "                residual = y - (np.dot(X, self.coef_) + self.intercept_) # Calcula os resíduo\n",
    "                rho = np.dot(X[:, j], residual + self.coef_[j] * X[:, j]) # Correlação com o resíduo\n",
    "                self.coef_[j] = self._soft_threshold(rho, self.l1_penalty) / np.sum(X[:, j] ** 2) # Aplica soft-thresholding e normaliza pelo quadrado da feature\n",
    "\n",
    "            # Verifica a convergência\n",
    "            if np.sum(np.abs(self.coef_ - coef_prev)) < self.tolerance:\n",
    "                break # Vai interromper se a mudança nos coeficientes for menor que a tolerância\n",
    "\n",
    "    def predict(self, dataset):\n",
    "        \"\"\"\n",
    "        Predict target values using the fitted Lasso model.\n",
    "\n",
    "        Parameters\n",
    "        ----------\n",
    "        dataset : Dataset\n",
    "            A Dataset object containing features (X).\n",
    "\n",
    "        Returns\n",
    "        -------\n",
    "        ndarray of shape (n_samples,)\n",
    "            The predicted target values.\n",
    "        \"\"\"\n",
    "        X = dataset.X\n",
    "        return np.dot(X, self.coef_) + self.intercept_\n",
    "\n",
    "    def score(self, dataset):\n",
    "        \"\"\"\n",
    "        Calculate the Mean Squared Error (MSE) of the predictions.\n",
    "\n",
    "        Parameters\n",
    "        ----------\n",
    "        dataset : Dataset\n",
    "            A Dataset object containing features (X) and labels (y).\n",
    "\n",
    "        Returns\n",
    "        -------\n",
    "        float\n",
    "            The Mean Squared Error of the predictions.\n",
    "        \"\"\"\n",
    "        X, y = dataset.X, dataset.y\n",
    "        y_pred = self.predict(dataset)\n",
    "        return np.mean((y - y_pred) ** 2) # Calcula o MSE (não estava a coneguir usar a função dada na aula)\n",
    "\n"
   ]
  },
  {
   "cell_type": "markdown",
   "metadata": {},
   "source": [
    "### Comparação do meu modelo com o do sekit-learn para ver se está a funcionar mais ou menos (podia ser pior...)"
   ]
  },
  {
   "cell_type": "code",
   "execution_count": 38,
   "metadata": {},
   "outputs": [
    {
     "name": "stdout",
     "output_type": "stream",
     "text": [
      "MSE - Custom: 0.005000000109858807\n",
      "MSE - scikit-learn: 0.125\n"
     ]
    }
   ],
   "source": [
    "from sklearn.linear_model import Lasso\n",
    "from sklearn.metrics import mean_squared_error\n",
    "\n",
    "X_train = np.array([[1, 2], [2, 4], [3, 6], [4, 8], [5, 10]])\n",
    "y_train = np.array([1, 2, 3, 4, 5])\n",
    "\n",
    "# A minha \n",
    "dataset = Dataset(X_train, y_train)\n",
    "model = LassoRegression(l1_penalty=1)\n",
    "model.fit(dataset)\n",
    "y_pred_custom = model.predict(dataset)\n",
    "mse_custom = mean_squared_error(y_train, y_pred_custom)\n",
    "\n",
    "# Modelo do scikit-learn\n",
    "lasso = Lasso(alpha=1, fit_intercept=True, max_iter=1000)\n",
    "lasso.fit(X_train, y_train)\n",
    "y_pred_sklearn = lasso.predict(X_train)\n",
    "mse_sklearn = mean_squared_error(y_train, y_pred_sklearn)\n",
    "\n",
    "print(\"MSE - Custom:\", mse_custom)\n",
    "print(\"MSE - scikit-learn:\", mse_sklearn)\n"
   ]
  }
 ],
 "metadata": {
  "kernelspec": {
   "display_name": "si_3",
   "language": "python",
   "name": "python3"
  },
  "language_info": {
   "codemirror_mode": {
    "name": "ipython",
    "version": 3
   },
   "file_extension": ".py",
   "mimetype": "text/x-python",
   "name": "python",
   "nbconvert_exporter": "python",
   "pygments_lexer": "ipython3",
   "version": "3.12.8"
  },
  "orig_nbformat": 4
 },
 "nbformat": 4,
 "nbformat_minor": 2
}
