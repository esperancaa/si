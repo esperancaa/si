{
 "cells": [
  {
   "cell_type": "markdown",
   "metadata": {},
   "source": [
    "5.1) Add the \"PCA\" class in the \"pca.py\" module on the \"decomposition\" sub-package. Consider the PCA class structure presented in the next slide."
   ]
  },
  {
   "cell_type": "code",
   "execution_count": 24,
   "metadata": {},
   "outputs": [],
   "source": [
    "import sys\n",
    "import numpy as np\n",
    "sys.path.append(\"/Users/utilizador/Documents/GitHub/si/src\")\n",
    "import matplotlib.pyplot as plt\n",
    "from si.io.csv_file import read_csv\n",
    "from si.data.dataset import Dataset\n",
    "\n",
    "class PCA:\n",
    "    \"\"\"\n",
    "    Principal Component Analysis (PCA) is a linear algebra technique used to reduce the dimensions\n",
    "    of the dataset. The PCA to be implemented must use eigenvalue\n",
    "    decomposition of the covariance matrix of the data.\n",
    "    \n",
    "    Parameters:\n",
    "    -----------\n",
    "    \n",
    "    n_components: int, default=2\n",
    "    \n",
    "    Returns:\n",
    "    -----------\n",
    "    \n",
    "    PCA object\n",
    "    \n",
    "    \"\"\"\n",
    "    \n",
    "    def __init__(self, n_components:int):\n",
    "        \n",
    "        self.n_components = n_components\n",
    "        self.components: np.ndarray = None # Inicializa os componentes principais (vetores próprios) como None.\n",
    "        self.mean: np.ndarray = None\n",
    "        self.explained_variance: np.ndarray = None\n",
    "        \n",
    "    \n",
    "    def fit(self, Dataset: Dataset)-> tuple:\n",
    "        \"\"\"\n",
    "        Fit the PCA model to the data\n",
    "        \n",
    "        Parameters:\n",
    "        -----------\n",
    "        \n",
    "        X: numpy array\n",
    "            The data to fit the PCA model to\n",
    "            \n",
    "        Returns:\n",
    "        -----------\n",
    "        \n",
    "        self: PCA\n",
    "            The fitted PCA model\n",
    "            \n",
    "        \"\"\"\n",
    "        \n",
    "        if self.n_components > Dataset.X.shape[1]-1:\n",
    "            raise ValueError(\"The number of components should be less than the number of features in the dataset.\")\n",
    "\n",
    "        \n",
    "        self.mean= np.mean(Dataset.X, axis=0)\n",
    "        X_centered= np.subtract(Dataset.X, self.mean) # Centraliza os dados subtraindo a média.\n",
    "        \n",
    "        covariance= np.cov(X_centered, rowvar=False)# covariance matrix\n",
    "        \n",
    "        eigen_values, eigen_vectors= np.linalg.eig(covariance)# Realiza a decomposição em valores e vetores próprios.\n",
    "        \n",
    "        sorted_indices = np.argsort(eigen_values)[::-1]\n",
    "        eigen_values_sorted = eigen_values[sorted_indices]\n",
    "        eigen_vectors_sorted = eigen_vectors[:, sorted_indices]\n",
    "        \n",
    "        self.components= eigen_vectors_sorted[:, :self.n_components] # seleciona todas as linhas e posteriormente seleciona n colunas\n",
    "        \n",
    "        self.explained_variance = eigen_values_sorted[:self.n_components] / np.sum(eigen_values)\n",
    "\n",
    "        return self\n",
    "        \n",
    "    def transform (self, Dataset: Dataset)->tuple:\n",
    "        \n",
    "        \"\"\"\n",
    "        \n",
    "        ----------\n",
    "        dataset (Dataset): Dataset object\n",
    "        \"\"\"\n",
    "        X_centered= np.subtract(Dataset.X, self.mean)\n",
    "        \n",
    "        X_reduced= np.dot(X_centered,self.components)\n",
    "        \n",
    "        return X_reduced\n",
    "        \n",
    "    \n",
    "    def plot_variance_explained(self):\n",
    "        \"\"\"\n",
    "        Creates a bar plot of the variances explained by the principal components.\n",
    "        \"\"\"\n",
    "        if self.explained_variance is not None:\n",
    "            explained_variance_normalized = self.explained_variance / sum(self.explained_variance) #normalize soma = 1\n",
    "            print(explained_variance_normalized)\n",
    "\n",
    "            num_pcs = len(self.explained_variance)\n",
    "            x_indices = range(1, num_pcs + 1)\n",
    "\n",
    "            plt.bar(x_indices, explained_variance_normalized, align='center')\n",
    "            plt.xlabel('Pincipal component (PC)')\n",
    "            plt.ylabel('Explained variance normalized')\n",
    "            plt.title('Explained variance by PC')\n",
    "            plt.xticks(x_indices,[f'PC{i}' for i in x_indices])\n",
    "            plt.show()\n",
    "        else:\n",
    "            print(\"The principal components and explained variances have not yet been calculated.\")   \n",
    "\n",
    "\n",
    "\n",
    "\n",
    "\n"
   ]
  },
  {
   "cell_type": "markdown",
   "metadata": {},
   "source": [
    "5.2) Test the PCA class in a jupyter notebook using the iris.csv dataset (classificação)."
   ]
  },
  {
   "cell_type": "code",
   "execution_count": 22,
   "metadata": {},
   "outputs": [
    {
     "data": {
      "text/html": [
       "<div>\n",
       "<style scoped>\n",
       "    .dataframe tbody tr th:only-of-type {\n",
       "        vertical-align: middle;\n",
       "    }\n",
       "\n",
       "    .dataframe tbody tr th {\n",
       "        vertical-align: top;\n",
       "    }\n",
       "\n",
       "    .dataframe thead th {\n",
       "        text-align: right;\n",
       "    }\n",
       "</style>\n",
       "<table border=\"1\" class=\"dataframe\">\n",
       "  <thead>\n",
       "    <tr style=\"text-align: right;\">\n",
       "      <th></th>\n",
       "      <th>feat_0</th>\n",
       "      <th>feat_1</th>\n",
       "      <th>feat_2</th>\n",
       "      <th>feat_3</th>\n",
       "    </tr>\n",
       "  </thead>\n",
       "  <tbody>\n",
       "    <tr>\n",
       "      <th>mean</th>\n",
       "      <td>5.843333</td>\n",
       "      <td>3.054000</td>\n",
       "      <td>3.758667</td>\n",
       "      <td>1.198667</td>\n",
       "    </tr>\n",
       "    <tr>\n",
       "      <th>median</th>\n",
       "      <td>5.800000</td>\n",
       "      <td>3.000000</td>\n",
       "      <td>4.350000</td>\n",
       "      <td>1.300000</td>\n",
       "    </tr>\n",
       "    <tr>\n",
       "      <th>min</th>\n",
       "      <td>4.300000</td>\n",
       "      <td>2.000000</td>\n",
       "      <td>1.000000</td>\n",
       "      <td>0.100000</td>\n",
       "    </tr>\n",
       "    <tr>\n",
       "      <th>max</th>\n",
       "      <td>7.900000</td>\n",
       "      <td>4.400000</td>\n",
       "      <td>6.900000</td>\n",
       "      <td>2.500000</td>\n",
       "    </tr>\n",
       "    <tr>\n",
       "      <th>var</th>\n",
       "      <td>0.681122</td>\n",
       "      <td>0.186751</td>\n",
       "      <td>3.092425</td>\n",
       "      <td>0.578532</td>\n",
       "    </tr>\n",
       "  </tbody>\n",
       "</table>\n",
       "</div>"
      ],
      "text/plain": [
       "          feat_0    feat_1    feat_2    feat_3\n",
       "mean    5.843333  3.054000  3.758667  1.198667\n",
       "median  5.800000  3.000000  4.350000  1.300000\n",
       "min     4.300000  2.000000  1.000000  0.100000\n",
       "max     7.900000  4.400000  6.900000  2.500000\n",
       "var     0.681122  0.186751  3.092425  0.578532"
      ]
     },
     "execution_count": 22,
     "metadata": {},
     "output_type": "execute_result"
    }
   ],
   "source": [
    "Path= \"/Users/utilizador/Documents/GitHub/si/datasets/iris/\"\n",
    "data = read_csv(Path + \"iris.csv\", sep=\",\", label=True)\n",
    "data.summary()"
   ]
  },
  {
   "cell_type": "code",
   "execution_count": 26,
   "metadata": {},
   "outputs": [
    {
     "name": "stdout",
     "output_type": "stream",
     "text": [
      "[0.92943354 0.05329178 0.01727468]\n"
     ]
    },
    {
     "data": {
      "image/png": "[encoded data removed]",
      "text/plain": [
       "<Figure size 640x480 with 1 Axes>"
      ]
     },
     "metadata": {},
     "output_type": "display_data"
    }
   ],
   "source": [
    "pca = PCA(n_components=3)\n",
    "pca.fit(data)\n",
    "X_reduced = pca.transform(data)\n",
    "pca.plot_variance_explained()\n"
   ]
  },
  {
   "cell_type": "markdown",
   "metadata": {},
   "source": []
  }
 ],
 "metadata": {
  "kernelspec": {
   "display_name": "si",
   "language": "python",
   "name": "python3"
  },
  "language_info": {
   "codemirror_mode": {
    "name": "ipython",
    "version": 3
   },
   "file_extension": ".py",
   "mimetype": "text/x-python",
   "name": "python",
   "nbconvert_exporter": "python",
   "pygments_lexer": "ipython3",
   "version": "3.12.8"
  },
  "orig_nbformat": 4
 },
 "nbformat": 4,
 "nbformat_minor": 2
}
