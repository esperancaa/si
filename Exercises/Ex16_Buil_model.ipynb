{
 "cells": [
  {
   "cell_type": "code",
   "execution_count": 1,
   "metadata": {},
   "outputs": [],
   "source": [
    "import numpy as np\n",
    "import sys\n",
    "sys.path.append(\"/Users/utilizador/Documents/GitHub/si/src\")\n",
    "from si.neural_networks.layers import DenseLayer, Layer\n",
    "from si.neural_networks.losses import BinaryCrossEntropy\n",
    "from si.neural_networks.activation import ReLUActivation\n",
    "from si.neural_networks.activation import SigmoidActivation\n",
    "from si.neural_networks.optimizers import SGD\n",
    "from si.neural_networks.neural_network import NeuralNetwork\n",
    "from si.data.dataset import Dataset\n",
    "from si.model_selection.cross_validate import k_fold_cross_validation"
   ]
  },
  {
   "cell_type": "code",
   "execution_count": 2,
   "metadata": {},
   "outputs": [],
   "source": [
    "from si.model_selection.split import train_test_split\n",
    "\n",
    "\n",
    "np.random.seed(42)\n",
    "X = np.random.randn(160, 32)  # 160 amostras, 32 características\n",
    "y = np.random.randint(2, size=(160, 1))  #  binários (0 ou 1)\n",
    "dataset=Dataset(X=X,y=y)\n",
    "\n",
    "#dividir treino/teste\n",
    "train_dl,test_dl = train_test_split(dataset, test_size=0.2, random_state=42)"
   ]
  },
  {
   "cell_type": "code",
   "execution_count": 3,
   "metadata": {},
   "outputs": [
    {
     "data": {
      "text/plain": [
       "<si.neural_networks.neural_network.NeuralNetwork at 0x1109950a0>"
      ]
     },
     "execution_count": 3,
     "metadata": {},
     "output_type": "execute_result"
    }
   ],
   "source": [
    "#criar rede\n",
    "from si.metrics import accuracy\n",
    "\n",
    "\n",
    "model_dl =NeuralNetwork(epochs=100, batch_size=16, optimizer=SGD, learning_rate=0.01, verbose=True, loss=BinaryCrossEntropy, metric=accuracy)\n",
    "n_features = X.shape[1]\n",
    "model_dl.add(DenseLayer(32, (n_features,)))\n",
    "model_dl.add(ReLUActivation())\n",
    "model_dl.add(DenseLayer(16))\n",
    "model_dl.add(ReLUActivation())\n",
    "model_dl.add(DenseLayer(1))\n",
    "model_dl.add(SigmoidActivation())"
   ]
  },
  {
   "cell_type": "code",
   "execution_count": 4,
   "metadata": {},
   "outputs": [
    {
     "ename": "TypeError",
     "evalue": "'module' object is not callable",
     "output_type": "error",
     "traceback": [
      "\u001b[0;31m---------------------------------------------------------------------------\u001b[0m",
      "\u001b[0;31mTypeError\u001b[0m                                 Traceback (most recent call last)",
      "Cell \u001b[0;32mIn[4], line 1\u001b[0m\n\u001b[0;32m----> 1\u001b[0m model_dl\u001b[39m.\u001b[39;49mfit(train_dl)\n",
      "File \u001b[0;32m~/Documents/GitHub/si/src/si/base/estimator.py:32\u001b[0m, in \u001b[0;36mEstimator.fit\u001b[0;34m(self, dataset)\u001b[0m\n\u001b[1;32m     18\u001b[0m \u001b[39mdef\u001b[39;00m \u001b[39mfit\u001b[39m(\u001b[39mself\u001b[39m, dataset: Dataset) \u001b[39m-\u001b[39m\u001b[39m>\u001b[39m \u001b[39m'\u001b[39m\u001b[39mEstimator\u001b[39m\u001b[39m'\u001b[39m:\n\u001b[1;32m     19\u001b[0m \u001b[39m    \u001b[39m\u001b[39m\"\"\"\u001b[39;00m\n\u001b[1;32m     20\u001b[0m \u001b[39m    Fit the estimator to the data.\u001b[39;00m\n\u001b[1;32m     21\u001b[0m \n\u001b[0;32m   (...)\u001b[0m\n\u001b[1;32m     30\u001b[0m \u001b[39m        The fitted estimator.\u001b[39;00m\n\u001b[1;32m     31\u001b[0m \u001b[39m    \"\"\"\u001b[39;00m\n\u001b[0;32m---> 32\u001b[0m     \u001b[39mself\u001b[39;49m\u001b[39m.\u001b[39;49m_fit(dataset)\n\u001b[1;32m     33\u001b[0m     \u001b[39mself\u001b[39m\u001b[39m.\u001b[39m_is_fitted \u001b[39m=\u001b[39m \u001b[39mTrue\u001b[39;00m\n\u001b[1;32m     34\u001b[0m     \u001b[39mreturn\u001b[39;00m \u001b[39mself\u001b[39m\n",
      "File \u001b[0;32m~/Documents/GitHub/si/src/si/neural_networks/neural_network.py:174\u001b[0m, in \u001b[0;36mNeuralNetwork._fit\u001b[0;34m(self, dataset)\u001b[0m\n\u001b[1;32m    171\u001b[0m loss \u001b[39m=\u001b[39m \u001b[39mself\u001b[39m\u001b[39m.\u001b[39mloss\u001b[39m.\u001b[39mloss(y_all, output_x_all)\n\u001b[1;32m    173\u001b[0m \u001b[39mif\u001b[39;00m \u001b[39mself\u001b[39m\u001b[39m.\u001b[39mmetric \u001b[39mis\u001b[39;00m \u001b[39mnot\u001b[39;00m \u001b[39mNone\u001b[39;00m:\n\u001b[0;32m--> 174\u001b[0m     metric \u001b[39m=\u001b[39m \u001b[39mself\u001b[39;49m\u001b[39m.\u001b[39;49mmetric(y_all, output_x_all)\n\u001b[1;32m    175\u001b[0m     metric_s \u001b[39m=\u001b[39m \u001b[39mf\u001b[39m\u001b[39m\"\u001b[39m\u001b[39m{\u001b[39;00m\u001b[39mself\u001b[39m\u001b[39m.\u001b[39mmetric\u001b[39m.\u001b[39m\u001b[39m__name__\u001b[39m\u001b[39m}\u001b[39;00m\u001b[39m: \u001b[39m\u001b[39m{\u001b[39;00mmetric\u001b[39m:\u001b[39;00m\u001b[39m.4f\u001b[39m\u001b[39m}\u001b[39;00m\u001b[39m\"\u001b[39m\n\u001b[1;32m    176\u001b[0m \u001b[39melse\u001b[39;00m:\n",
      "\u001b[0;31mTypeError\u001b[0m: 'module' object is not callable"
     ]
    }
   ],
   "source": [
    "\n",
    "model_dl.fit(train_dl)\n"
   ]
  },
  {
   "cell_type": "code",
   "execution_count": null,
   "metadata": {},
   "outputs": [],
   "source": []
  }
 ],
 "metadata": {
  "kernelspec": {
   "display_name": "si_3",
   "language": "python",
   "name": "python3"
  },
  "language_info": {
   "codemirror_mode": {
    "name": "ipython",
    "version": 3
   },
   "file_extension": ".py",
   "mimetype": "text/x-python",
   "name": "python",
   "nbconvert_exporter": "python",
   "pygments_lexer": "ipython3",
   "version": "3.12.8"
  },
  "orig_nbformat": 4
 },
 "nbformat": 4,
 "nbformat_minor": 2
}
