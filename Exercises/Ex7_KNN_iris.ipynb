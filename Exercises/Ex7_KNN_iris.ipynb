{
 "cells": [
  {
   "cell_type": "code",
   "execution_count": 27,
   "metadata": {},
   "outputs": [],
   "source": [
    "import numpy as np\n",
    "import sys\n",
    "sys.path.append(\"/Users/utilizador/Documents/GitHub/si/src\")\n",
    "sys.path.append(\"/Users/utilizador/Documents/GitHub/si\")\n",
    "from si.statistics.euclidean_distance import euclidean_distance\n",
    "from Exercises.Ex7_RMSE import RMSE\n",
    "\n",
    "\n",
    "class KNNRegressor:\n",
    "    \"\"\"\n",
    "    K-Nearest Neighbors Regressor class for regression problems.\n",
    "\n",
    "    Parameters:\n",
    "    -----------\n",
    "    k: int\n",
    "        The number of nearest examples to consider.\n",
    "\n",
    "    distance: callable\n",
    "        A function that calculates the distance between a sample and the samples in the training dataset.\n",
    "    \n",
    "    Attributes:\n",
    "    -----------\n",
    "    dataset: tuple (X, y)\n",
    "        Stores the training dataset, where X is the feature matrix and y is the target vector.\n",
    "    \"\"\"\n",
    "\n",
    "    def __init__(self, k, distance):\n",
    "        self.k = k\n",
    "        self.distance = distance if distance is not None else euclidean_distance\n",
    "        self.dataset = None\n",
    "\n",
    "    def _fit(self, dataset):\n",
    "        \"\"\"\n",
    "        Store the training dataset.\n",
    "\n",
    "        Parameters:\n",
    "        -----------\n",
    "        dataset: tuple (X, y)\n",
    "            The training dataset, where X is the feature matrix and y is the target vector.\n",
    "\n",
    "        Returns:\n",
    "        --------\n",
    "        self: KNNRegressor\n",
    "            The fitted regressor.\n",
    "        \"\"\"\n",
    "        self.dataset = dataset\n",
    "        return self\n",
    "\n",
    "    def _predict(self, dataset):\n",
    "        \"\"\"\n",
    "        Predict values for the test dataset.\n",
    "\n",
    "        Parameters:\n",
    "        -----------\n",
    "        dataset: numpy array\n",
    "            The test dataset feature matrix (X).\n",
    "\n",
    "        Returns:\n",
    "        --------\n",
    "        predictions: numpy array\n",
    "            The predicted values (y_pred) for the test dataset.\n",
    "        \"\"\"\n",
    "        X_train, y_train = self.dataset\n",
    "        X_test = dataset\n",
    "        predictions = []\n",
    "\n",
    "        for x in X_test:\n",
    "            \n",
    "            distances = np.array([self.distance(x, x_train) for x_train in X_train]) #distância entre o X e todos os training samples\n",
    "            \n",
    "            nearest_indexes = distances.argsort()[:self.k] #index do k nearest neighbors\n",
    "            \n",
    "            nearest_values = y_train[nearest_indexes]  #valores correpondentes \n",
    "            \n",
    "            predictions.append(np.mean(nearest_values)) #média dos predicted values\n",
    "\n",
    "        return np.array(predictions)\n",
    "\n",
    "    def _score(self, dataset):\n",
    "        \"\"\"\n",
    "        Calculate the RMSE between predictions and actual values.\n",
    "\n",
    "        Parameters:\n",
    "        -----------\n",
    "        dataset: tuple (X, y)\n",
    "            The test dataset, where X is the feature matrix and y is the target vector.\n",
    "\n",
    "        Returns:\n",
    "        --------\n",
    "        error: float\n",
    "            The RMSE between predictions and actual values.\n",
    "        \"\"\"\n",
    "        X_test, y_test = dataset\n",
    "        y_pred = self._predict(X_test)\n",
    "        error = RMSE(y_test, y_pred) \n",
    "        return error"
   ]
  },
  {
   "cell_type": "code",
   "execution_count": 17,
   "metadata": {},
   "outputs": [],
   "source": [
    "from si.io.csv_file import read_csv\n",
    "import pandas as pd\n",
    "\n",
    "Path= \"/Users/utilizador/Documents/GitHub/si/datasets/cpu/\"\n",
    "data = pd.read_csv(Path + \"cpu.csv\", sep=\",\", index_col=False)\n",
    "\n"
   ]
  },
  {
   "cell_type": "code",
   "execution_count": 18,
   "metadata": {},
   "outputs": [
    {
     "name": "stdout",
     "output_type": "stream",
     "text": [
      "   syct  mmin   mmax  cach  chmin  chmax  perf\n",
      "0   125   256   6000   256     16    128   198\n",
      "1    29  8000  32000    32      8     32   269\n",
      "2    29  8000  32000    32      8     32   220\n",
      "3    29  8000  32000    32      8     32   172\n",
      "4    29  8000  16000    32      8     16   132\n"
     ]
    }
   ],
   "source": [
    "print (data.head())"
   ]
  },
  {
   "cell_type": "code",
   "execution_count": 25,
   "metadata": {},
   "outputs": [],
   "source": [
    "from sklearn.model_selection import train_test_split\n",
    "\n",
    "X = data.to_numpy()[:, :-1]  \n",
    "y = data.to_numpy()[:, -1]   \n",
    "\n",
    "\n",
    "X_train, X_test, y_train, y_test = train_test_split(X, y, test_size=0.4, random_state=42)"
   ]
  },
  {
   "cell_type": "code",
   "execution_count": 30,
   "metadata": {},
   "outputs": [],
   "source": [
    "from sklearn.preprocessing import StandardScaler\n",
    "\n",
    "scaler = StandardScaler()\n",
    "X_train = scaler.fit_transform(X_train)\n",
    "X_test = scaler.transform(X_test)"
   ]
  },
  {
   "cell_type": "code",
   "execution_count": 37,
   "metadata": {},
   "outputs": [
    {
     "name": "stdout",
     "output_type": "stream",
     "text": [
      "Predições: [177.5  17.5  33.  165.   17.  323.5  66.   26.  573.  171.5  89.  123.\n",
      "  22.5  46.   41.5  33.   74.   29.  134.   73.   48.5  94.  108.5  16.5\n",
      "  14.5  40.   21.5  25.5  36.   61.  323.5  28.5  27.5  19.   25.5  39.\n",
      "  42.5 428.   34.   20.5 401.   33.  152.5 428.  412.5  22.  325.   25.5\n",
      "  23.   40.   32.5  25.   45.   26.  178.   89.   25.   10.  144.  323.5\n",
      " 108.5  49.  244.5  73.   57.5  39.   28.5 177.5  61.  160.   33.5  63.\n",
      " 102.  152.5  66.   19.   61.   40.   22.   63.  106.5  33.   19.   32.5]\n",
      "RMSE: 137.13019534803587\n"
     ]
    }
   ],
   "source": [
    "# Instanciação e treinamento do modelo\n",
    "knn = KNNRegressor(k=2, distance=euclidean_distance)\n",
    "knn._fit((X_train, y_train))\n",
    "\n",
    "# Predições\n",
    "predictions = knn._predict(X_test)\n",
    "\n",
    "# Avaliação do modelo\n",
    "score = knn._score((X_test, y_test))\n",
    "\n",
    "# Resultados\n",
    "print(\"Predições:\", predictions)\n",
    "print(\"RMSE:\", score)"
   ]
  },
  {
   "cell_type": "code",
   "execution_count": null,
   "metadata": {},
   "outputs": [],
   "source": []
  }
 ],
 "metadata": {
  "kernelspec": {
   "display_name": "si_3",
   "language": "python",
   "name": "python3"
  },
  "language_info": {
   "codemirror_mode": {
    "name": "ipython",
    "version": 3
   },
   "file_extension": ".py",
   "mimetype": "text/x-python",
   "name": "python",
   "nbconvert_exporter": "python",
   "pygments_lexer": "ipython3",
   "version": "3.12.8"
  },
  "orig_nbformat": 4
 },
 "nbformat": 4,
 "nbformat_minor": 2
}
